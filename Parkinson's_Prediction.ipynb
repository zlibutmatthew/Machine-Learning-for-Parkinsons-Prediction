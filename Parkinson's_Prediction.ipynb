{
  "nbformat": 4,
  "nbformat_minor": 0,
  "metadata": {
    "colab": {
      "name": "Parkinson's Prediction.ipynb",
      "provenance": [],
      "authorship_tag": "ABX9TyOtTd3Xq/ycbJKSmBIfv09/",
      "include_colab_link": true
    },
    "kernelspec": {
      "name": "python3",
      "display_name": "Python 3"
    }
  },
  "cells": [
    {
      "cell_type": "markdown",
      "metadata": {
        "id": "view-in-github",
        "colab_type": "text"
      },
      "source": [
        "<a href=\"https://colab.research.google.com/github/zlibutmatthew/Machine-Learning-for-Parkinsons-Prediction/blob/main/Parkinson's_Prediction.ipynb\" target=\"_parent\"><img src=\"https://colab.research.google.com/assets/colab-badge.svg\" alt=\"Open In Colab\"/></a>"
      ]
    },
    {
      "cell_type": "markdown",
      "metadata": {
        "id": "5gGSfCjcI4dP"
      },
      "source": [
        "## Parkinson's Disease Data Prediction\n",
        "####      Done By: Sheanel Gardner & Matthew Zlibut"
      ]
    },
    {
      "cell_type": "markdown",
      "metadata": {
        "id": "Zm7eJk8HJQxi"
      },
      "source": [
        "## Importing data"
      ]
    },
    {
      "cell_type": "code",
      "metadata": {
        "id": "h8ga3XN5IwMl"
      },
      "source": [
        "import numpy as np\n",
        "import pandas as pd\n",
        "import matplotlib.pyplot as plt\n",
        "import seaborn as sn\n",
        "from sklearn.preprocessing import LabelEncoder\n",
        "from sklearn.model_selection import GridSearchCV\n",
        "from sklearn.neural_network import MLPClassifier\n",
        "from sklearn.metrics import recall_score, f1_score, accuracy_score, precision_score, confusion_matrix"
      ],
      "execution_count": 1,
      "outputs": []
    },
    {
      "cell_type": "code",
      "metadata": {
        "colab": {
          "base_uri": "https://localhost:8080/"
        },
        "id": "Wh6b5oMkI-9e",
        "outputId": "9a211212-ace3-4b5d-c7b2-4198c119c5b5"
      },
      "source": [
        "df = pd.read_csv('https://archive.ics.uci.edu'\n",
        "                 '/ml/machine-learning-databases/parkinsons'\n",
        "                 '/parkinsons.data', header=0, \n",
        "                 delimiter=r\",\\s*\" ,na_values='?', engine='python')\n",
        "\n",
        "df.info()"
      ],
      "execution_count": 2,
      "outputs": [
        {
          "output_type": "stream",
          "text": [
            "<class 'pandas.core.frame.DataFrame'>\n",
            "RangeIndex: 195 entries, 0 to 194\n",
            "Data columns (total 24 columns):\n",
            " #   Column            Non-Null Count  Dtype  \n",
            "---  ------            --------------  -----  \n",
            " 0   name              195 non-null    object \n",
            " 1   MDVP:Fo(Hz)       195 non-null    float64\n",
            " 2   MDVP:Fhi(Hz)      195 non-null    float64\n",
            " 3   MDVP:Flo(Hz)      195 non-null    float64\n",
            " 4   MDVP:Jitter(%)    195 non-null    float64\n",
            " 5   MDVP:Jitter(Abs)  195 non-null    float64\n",
            " 6   MDVP:RAP          195 non-null    float64\n",
            " 7   MDVP:PPQ          195 non-null    float64\n",
            " 8   Jitter:DDP        195 non-null    float64\n",
            " 9   MDVP:Shimmer      195 non-null    float64\n",
            " 10  MDVP:Shimmer(dB)  195 non-null    float64\n",
            " 11  Shimmer:APQ3      195 non-null    float64\n",
            " 12  Shimmer:APQ5      195 non-null    float64\n",
            " 13  MDVP:APQ          195 non-null    float64\n",
            " 14  Shimmer:DDA       195 non-null    float64\n",
            " 15  NHR               195 non-null    float64\n",
            " 16  HNR               195 non-null    float64\n",
            " 17  status            195 non-null    int64  \n",
            " 18  RPDE              195 non-null    float64\n",
            " 19  DFA               195 non-null    float64\n",
            " 20  spread1           195 non-null    float64\n",
            " 21  spread2           195 non-null    float64\n",
            " 22  D2                195 non-null    float64\n",
            " 23  PPE               195 non-null    float64\n",
            "dtypes: float64(22), int64(1), object(1)\n",
            "memory usage: 36.7+ KB\n"
          ],
          "name": "stdout"
        }
      ]
    },
    {
      "cell_type": "code",
      "metadata": {
        "colab": {
          "base_uri": "https://localhost:8080/",
          "height": 224
        },
        "id": "ceBkvPQLJCAU",
        "outputId": "70c4972c-81e3-4b9d-fbaf-79db565d717e"
      },
      "source": [
        "df.head()"
      ],
      "execution_count": 4,
      "outputs": [
        {
          "output_type": "execute_result",
          "data": {
            "text/html": [
              "<div>\n",
              "<style scoped>\n",
              "    .dataframe tbody tr th:only-of-type {\n",
              "        vertical-align: middle;\n",
              "    }\n",
              "\n",
              "    .dataframe tbody tr th {\n",
              "        vertical-align: top;\n",
              "    }\n",
              "\n",
              "    .dataframe thead th {\n",
              "        text-align: right;\n",
              "    }\n",
              "</style>\n",
              "<table border=\"1\" class=\"dataframe\">\n",
              "  <thead>\n",
              "    <tr style=\"text-align: right;\">\n",
              "      <th></th>\n",
              "      <th>name</th>\n",
              "      <th>MDVP:Fo(Hz)</th>\n",
              "      <th>MDVP:Fhi(Hz)</th>\n",
              "      <th>MDVP:Flo(Hz)</th>\n",
              "      <th>MDVP:Jitter(%)</th>\n",
              "      <th>MDVP:Jitter(Abs)</th>\n",
              "      <th>MDVP:RAP</th>\n",
              "      <th>MDVP:PPQ</th>\n",
              "      <th>Jitter:DDP</th>\n",
              "      <th>MDVP:Shimmer</th>\n",
              "      <th>MDVP:Shimmer(dB)</th>\n",
              "      <th>Shimmer:APQ3</th>\n",
              "      <th>Shimmer:APQ5</th>\n",
              "      <th>MDVP:APQ</th>\n",
              "      <th>Shimmer:DDA</th>\n",
              "      <th>NHR</th>\n",
              "      <th>HNR</th>\n",
              "      <th>status</th>\n",
              "      <th>RPDE</th>\n",
              "      <th>DFA</th>\n",
              "      <th>spread1</th>\n",
              "      <th>spread2</th>\n",
              "      <th>D2</th>\n",
              "      <th>PPE</th>\n",
              "    </tr>\n",
              "  </thead>\n",
              "  <tbody>\n",
              "    <tr>\n",
              "      <th>0</th>\n",
              "      <td>phon_R01_S01_1</td>\n",
              "      <td>119.992</td>\n",
              "      <td>157.302</td>\n",
              "      <td>74.997</td>\n",
              "      <td>0.00784</td>\n",
              "      <td>0.00007</td>\n",
              "      <td>0.00370</td>\n",
              "      <td>0.00554</td>\n",
              "      <td>0.01109</td>\n",
              "      <td>0.04374</td>\n",
              "      <td>0.426</td>\n",
              "      <td>0.02182</td>\n",
              "      <td>0.03130</td>\n",
              "      <td>0.02971</td>\n",
              "      <td>0.06545</td>\n",
              "      <td>0.02211</td>\n",
              "      <td>21.033</td>\n",
              "      <td>1</td>\n",
              "      <td>0.414783</td>\n",
              "      <td>0.815285</td>\n",
              "      <td>-4.813031</td>\n",
              "      <td>0.266482</td>\n",
              "      <td>2.301442</td>\n",
              "      <td>0.284654</td>\n",
              "    </tr>\n",
              "    <tr>\n",
              "      <th>1</th>\n",
              "      <td>phon_R01_S01_2</td>\n",
              "      <td>122.400</td>\n",
              "      <td>148.650</td>\n",
              "      <td>113.819</td>\n",
              "      <td>0.00968</td>\n",
              "      <td>0.00008</td>\n",
              "      <td>0.00465</td>\n",
              "      <td>0.00696</td>\n",
              "      <td>0.01394</td>\n",
              "      <td>0.06134</td>\n",
              "      <td>0.626</td>\n",
              "      <td>0.03134</td>\n",
              "      <td>0.04518</td>\n",
              "      <td>0.04368</td>\n",
              "      <td>0.09403</td>\n",
              "      <td>0.01929</td>\n",
              "      <td>19.085</td>\n",
              "      <td>1</td>\n",
              "      <td>0.458359</td>\n",
              "      <td>0.819521</td>\n",
              "      <td>-4.075192</td>\n",
              "      <td>0.335590</td>\n",
              "      <td>2.486855</td>\n",
              "      <td>0.368674</td>\n",
              "    </tr>\n",
              "    <tr>\n",
              "      <th>2</th>\n",
              "      <td>phon_R01_S01_3</td>\n",
              "      <td>116.682</td>\n",
              "      <td>131.111</td>\n",
              "      <td>111.555</td>\n",
              "      <td>0.01050</td>\n",
              "      <td>0.00009</td>\n",
              "      <td>0.00544</td>\n",
              "      <td>0.00781</td>\n",
              "      <td>0.01633</td>\n",
              "      <td>0.05233</td>\n",
              "      <td>0.482</td>\n",
              "      <td>0.02757</td>\n",
              "      <td>0.03858</td>\n",
              "      <td>0.03590</td>\n",
              "      <td>0.08270</td>\n",
              "      <td>0.01309</td>\n",
              "      <td>20.651</td>\n",
              "      <td>1</td>\n",
              "      <td>0.429895</td>\n",
              "      <td>0.825288</td>\n",
              "      <td>-4.443179</td>\n",
              "      <td>0.311173</td>\n",
              "      <td>2.342259</td>\n",
              "      <td>0.332634</td>\n",
              "    </tr>\n",
              "    <tr>\n",
              "      <th>3</th>\n",
              "      <td>phon_R01_S01_4</td>\n",
              "      <td>116.676</td>\n",
              "      <td>137.871</td>\n",
              "      <td>111.366</td>\n",
              "      <td>0.00997</td>\n",
              "      <td>0.00009</td>\n",
              "      <td>0.00502</td>\n",
              "      <td>0.00698</td>\n",
              "      <td>0.01505</td>\n",
              "      <td>0.05492</td>\n",
              "      <td>0.517</td>\n",
              "      <td>0.02924</td>\n",
              "      <td>0.04005</td>\n",
              "      <td>0.03772</td>\n",
              "      <td>0.08771</td>\n",
              "      <td>0.01353</td>\n",
              "      <td>20.644</td>\n",
              "      <td>1</td>\n",
              "      <td>0.434969</td>\n",
              "      <td>0.819235</td>\n",
              "      <td>-4.117501</td>\n",
              "      <td>0.334147</td>\n",
              "      <td>2.405554</td>\n",
              "      <td>0.368975</td>\n",
              "    </tr>\n",
              "    <tr>\n",
              "      <th>4</th>\n",
              "      <td>phon_R01_S01_5</td>\n",
              "      <td>116.014</td>\n",
              "      <td>141.781</td>\n",
              "      <td>110.655</td>\n",
              "      <td>0.01284</td>\n",
              "      <td>0.00011</td>\n",
              "      <td>0.00655</td>\n",
              "      <td>0.00908</td>\n",
              "      <td>0.01966</td>\n",
              "      <td>0.06425</td>\n",
              "      <td>0.584</td>\n",
              "      <td>0.03490</td>\n",
              "      <td>0.04825</td>\n",
              "      <td>0.04465</td>\n",
              "      <td>0.10470</td>\n",
              "      <td>0.01767</td>\n",
              "      <td>19.649</td>\n",
              "      <td>1</td>\n",
              "      <td>0.417356</td>\n",
              "      <td>0.823484</td>\n",
              "      <td>-3.747787</td>\n",
              "      <td>0.234513</td>\n",
              "      <td>2.332180</td>\n",
              "      <td>0.410335</td>\n",
              "    </tr>\n",
              "  </tbody>\n",
              "</table>\n",
              "</div>"
            ],
            "text/plain": [
              "             name  MDVP:Fo(Hz)  MDVP:Fhi(Hz)  ...   spread2        D2       PPE\n",
              "0  phon_R01_S01_1      119.992       157.302  ...  0.266482  2.301442  0.284654\n",
              "1  phon_R01_S01_2      122.400       148.650  ...  0.335590  2.486855  0.368674\n",
              "2  phon_R01_S01_3      116.682       131.111  ...  0.311173  2.342259  0.332634\n",
              "3  phon_R01_S01_4      116.676       137.871  ...  0.334147  2.405554  0.368975\n",
              "4  phon_R01_S01_5      116.014       141.781  ...  0.234513  2.332180  0.410335\n",
              "\n",
              "[5 rows x 24 columns]"
            ]
          },
          "metadata": {
            "tags": []
          },
          "execution_count": 4
        }
      ]
    },
    {
      "cell_type": "markdown",
      "metadata": {
        "id": "8Lb3BPlnJLgI"
      },
      "source": [
        "### Check for missing data"
      ]
    },
    {
      "cell_type": "code",
      "metadata": {
        "colab": {
          "base_uri": "https://localhost:8080/"
        },
        "id": "0KXUXAjgJGev",
        "outputId": "1f0b8571-ef82-4df9-cbdb-c3d4928f98ca"
      },
      "source": [
        "df.isna().sum()"
      ],
      "execution_count": 5,
      "outputs": [
        {
          "output_type": "execute_result",
          "data": {
            "text/plain": [
              "name                0\n",
              "MDVP:Fo(Hz)         0\n",
              "MDVP:Fhi(Hz)        0\n",
              "MDVP:Flo(Hz)        0\n",
              "MDVP:Jitter(%)      0\n",
              "MDVP:Jitter(Abs)    0\n",
              "MDVP:RAP            0\n",
              "MDVP:PPQ            0\n",
              "Jitter:DDP          0\n",
              "MDVP:Shimmer        0\n",
              "MDVP:Shimmer(dB)    0\n",
              "Shimmer:APQ3        0\n",
              "Shimmer:APQ5        0\n",
              "MDVP:APQ            0\n",
              "Shimmer:DDA         0\n",
              "NHR                 0\n",
              "HNR                 0\n",
              "status              0\n",
              "RPDE                0\n",
              "DFA                 0\n",
              "spread1             0\n",
              "spread2             0\n",
              "D2                  0\n",
              "PPE                 0\n",
              "dtype: int64"
            ]
          },
          "metadata": {
            "tags": []
          },
          "execution_count": 5
        }
      ]
    },
    {
      "cell_type": "markdown",
      "metadata": {
        "id": "igZXnOa3JdI6"
      },
      "source": [
        "## Preprocessing the data"
      ]
    },
    {
      "cell_type": "code",
      "metadata": {
        "id": "A0gCK1-yJXv1"
      },
      "source": [
        "X = df.drop(['name', 'status'], axis =1) # independent variables\n",
        "y = df['status'] "
      ],
      "execution_count": 6,
      "outputs": []
    },
    {
      "cell_type": "code",
      "metadata": {
        "colab": {
          "base_uri": "https://localhost:8080/"
        },
        "id": "ogYyS_uTJjZx",
        "outputId": "0cc38972-7726-4993-d181-e2a875012cb4"
      },
      "source": [
        "x= X.values\n",
        "y = y.values\n",
        "print(x)\n",
        "print(y)"
      ],
      "execution_count": 7,
      "outputs": [
        {
          "output_type": "stream",
          "text": [
            "[[1.199920e+02 1.573020e+02 7.499700e+01 ... 2.664820e-01 2.301442e+00\n",
            "  2.846540e-01]\n",
            " [1.224000e+02 1.486500e+02 1.138190e+02 ... 3.355900e-01 2.486855e+00\n",
            "  3.686740e-01]\n",
            " [1.166820e+02 1.311110e+02 1.115550e+02 ... 3.111730e-01 2.342259e+00\n",
            "  3.326340e-01]\n",
            " ...\n",
            " [1.746880e+02 2.400050e+02 7.428700e+01 ... 1.584530e-01 2.679772e+00\n",
            "  1.317280e-01]\n",
            " [1.987640e+02 3.969610e+02 7.490400e+01 ... 2.074540e-01 2.138608e+00\n",
            "  1.233060e-01]\n",
            " [2.142890e+02 2.602770e+02 7.797300e+01 ... 1.906670e-01 2.555477e+00\n",
            "  1.485690e-01]]\n",
            "[1 1 1 1 1 1 1 1 1 1 1 1 1 1 1 1 1 1 1 1 1 1 1 1 1 1 1 1 1 1 0 0 0 0 0 0 1\n",
            " 1 1 1 1 1 0 0 0 0 0 0 0 0 0 0 0 0 1 1 1 1 1 1 0 0 0 0 0 0 1 1 1 1 1 1 1 1\n",
            " 1 1 1 1 1 1 1 1 1 1 1 1 1 1 1 1 1 1 1 1 1 1 1 1 1 1 1 1 1 1 1 1 1 1 1 1 1\n",
            " 1 1 1 1 1 1 1 1 1 1 1 1 1 1 1 1 1 1 1 1 1 1 1 1 1 1 1 1 1 1 1 1 1 1 1 1 1\n",
            " 1 1 1 1 1 1 1 1 1 1 1 1 1 1 1 1 1 0 0 0 0 0 0 0 0 0 0 0 0 1 1 1 1 1 1 0 0\n",
            " 0 0 0 0 0 0 0 0 0 0]\n"
          ],
          "name": "stdout"
        }
      ]
    },
    {
      "cell_type": "markdown",
      "metadata": {
        "id": "lzb6uFRIJoqU"
      },
      "source": [
        "### Find amount of people that have Parkinson's or are healthy"
      ]
    },
    {
      "cell_type": "code",
      "metadata": {
        "colab": {
          "base_uri": "https://localhost:8080/"
        },
        "id": "EC5a_H-UJlDO",
        "outputId": "02f6a85f-4723-4adb-e905-ea39369e2381"
      },
      "source": [
        "parkinson=0\n",
        "healthy=0\n",
        "for item in y:\n",
        "    if item == 0:\n",
        "        healthy+=1\n",
        "    else:\n",
        "        parkinson+=1\n",
        "        \n",
        "print(\"Parkinson's:\",parkinson)\n",
        "print('Healthy:',healthy)"
      ],
      "execution_count": 10,
      "outputs": [
        {
          "output_type": "stream",
          "text": [
            "Parkinson's: 147\n",
            "Healthy: 48\n"
          ],
          "name": "stdout"
        }
      ]
    },
    {
      "cell_type": "markdown",
      "metadata": {
        "id": "e7nFZVOAKFEY"
      },
      "source": [
        "### Split into training and testing data sets"
      ]
    },
    {
      "cell_type": "code",
      "metadata": {
        "id": "b-JJhqGyJ35I"
      },
      "source": [
        "from sklearn.model_selection import train_test_split\n",
        "\n",
        "X_train, X_test, y_train, y_test = \\\n",
        "    train_test_split(x, y, \n",
        "                     test_size=0.25,\n",
        "                     stratify=y,\n",
        "                     random_state=1)"
      ],
      "execution_count": 11,
      "outputs": []
    },
    {
      "cell_type": "code",
      "metadata": {
        "colab": {
          "base_uri": "https://localhost:8080/"
        },
        "id": "6zDS0utpKNWa",
        "outputId": "7961d6d0-aa45-4306-8dcf-a562ad109979"
      },
      "source": [
        "print(X_train.shape, y_train.shape)\n",
        "print(X_test.shape, y_test.shape)"
      ],
      "execution_count": 12,
      "outputs": [
        {
          "output_type": "stream",
          "text": [
            "(146, 22) (146,)\n",
            "(49, 22) (49,)\n"
          ],
          "name": "stdout"
        }
      ]
    },
    {
      "cell_type": "markdown",
      "metadata": {
        "id": "rnDmN5KVKWvM"
      },
      "source": [
        "### Normalize the Data"
      ]
    },
    {
      "cell_type": "code",
      "metadata": {
        "colab": {
          "base_uri": "https://localhost:8080/"
        },
        "id": "ZJ-HLsD1KRAm",
        "outputId": "21d9a59a-668b-47e2-d501-b8f4c5ad7476"
      },
      "source": [
        "from sklearn.preprocessing import StandardScaler\n",
        "\n",
        "scaler = StandardScaler()\n",
        "X_train_std = scaler.fit_transform(X_train)\n",
        "X_test_std = scaler.transform(X_test)\n",
        "print(X_train_std[:1,:])\n",
        "print(X_test_std[:1, :])"
      ],
      "execution_count": 14,
      "outputs": [
        {
          "output_type": "stream",
          "text": [
            "[[-0.44437902 -0.04151019 -0.80557492 -0.19709269 -0.11549364 -0.16546139\n",
            "  -0.10530791 -0.16449121 -0.12470514 -0.21396332 -0.105322   -0.02185263\n",
            "  -0.11972331 -0.10565706 -0.20887264 -0.76455285  1.23687189  0.39803872\n",
            "   0.08367434 -1.5914534  -1.41841264  0.02737021]]\n",
            "[[ 2.1079097   0.51759857  2.62701866 -0.87867754 -1.03740581 -0.78998795\n",
            "  -0.75912201 -0.79017599 -0.83531126 -0.80672698 -0.79897018 -0.74929595\n",
            "  -0.79519431 -0.79931373 -0.55796024  0.8222732  -0.53658552 -1.47902996\n",
            "  -1.29037329 -1.54099864 -0.15391542 -1.29379544]]\n"
          ],
          "name": "stdout"
        }
      ]
    },
    {
      "cell_type": "markdown",
      "metadata": {
        "id": "BNnX2GqtKgv3"
      },
      "source": [
        "## Logistic Regression"
      ]
    },
    {
      "cell_type": "code",
      "metadata": {
        "colab": {
          "base_uri": "https://localhost:8080/"
        },
        "id": "B8d7l10_Kcdh",
        "outputId": "5f9674e6-9b57-43e9-9943-856fc6492cf7"
      },
      "source": [
        "from sklearn.linear_model import LogisticRegression\n",
        "\n",
        "param_grid = [{'C': np.logspace(-4, 2, 7)}]\n",
        "lr = LogisticRegression()\n",
        "gs = GridSearchCV(estimator=lr, \n",
        "    param_grid=param_grid, \n",
        "    scoring='accuracy', \n",
        "    cv=10,\n",
        "    n_jobs=-1)\n",
        "gs.fit(X_train_std, y_train)\n",
        "print(gs.best_estimator_)\n",
        "print('Accuracy Training: ', gs.best_score_)\n",
        "y_pred_train = gs.best_estimator_.predict(X_train_std)\n",
        "y_pred_test = gs.best_estimator_.predict(X_test_std)\n",
        "print('Accuracy Test: ', accuracy_score(y_test, y_pred_test))\n",
        "\n",
        "print('Precision: ', precision_score(y_train, y_pred_train))\n",
        "print('Recall: ', recall_score(y_train, y_pred_train))\n",
        "print('F1: ', f1_score(y_train, y_pred_train))\n",
        "\n",
        "print(' TN, FN,\\n FP, TP\\n', confusion_matrix(y_train, y_pred_train))\n",
        "print(' TN, FN,\\n FP, TP\\n', confusion_matrix(y_test, y_pred_test))"
      ],
      "execution_count": 15,
      "outputs": [
        {
          "output_type": "stream",
          "text": [
            "LogisticRegression(C=100.0, class_weight=None, dual=False, fit_intercept=True,\n",
            "                   intercept_scaling=1, l1_ratio=None, max_iter=100,\n",
            "                   multi_class='auto', n_jobs=None, penalty='l2',\n",
            "                   random_state=None, solver='lbfgs', tol=0.0001, verbose=0,\n",
            "                   warm_start=False)\n",
            "Accuracy training:  0.8366666666666667\n",
            "accuracy test:  0.8775510204081632\n",
            "Precision:  0.9043478260869565\n",
            "recall:  0.9454545454545454\n",
            "f1:  0.9244444444444444\n",
            " TN, FN,\n",
            " FP, TP\n",
            " [[ 25  11]\n",
            " [  6 104]]\n",
            " TN, FN,\n",
            " FP, TP\n",
            " [[10  2]\n",
            " [ 4 33]]\n"
          ],
          "name": "stdout"
        },
        {
          "output_type": "stream",
          "text": [
            "/usr/local/lib/python3.6/dist-packages/sklearn/linear_model/_logistic.py:940: ConvergenceWarning: lbfgs failed to converge (status=1):\n",
            "STOP: TOTAL NO. of ITERATIONS REACHED LIMIT.\n",
            "\n",
            "Increase the number of iterations (max_iter) or scale the data as shown in:\n",
            "    https://scikit-learn.org/stable/modules/preprocessing.html\n",
            "Please also refer to the documentation for alternative solver options:\n",
            "    https://scikit-learn.org/stable/modules/linear_model.html#logistic-regression\n",
            "  extra_warning_msg=_LOGISTIC_SOLVER_CONVERGENCE_MSG)\n"
          ],
          "name": "stderr"
        }
      ]
    },
    {
      "cell_type": "code",
      "metadata": {
        "colab": {
          "base_uri": "https://localhost:8080/",
          "height": 445
        },
        "id": "qDGB2rqiKxKV",
        "outputId": "177610a7-d636-4241-d70a-37dc4a280277"
      },
      "source": [
        "array_test=confusion_matrix(y_test, y_pred_test)\n",
        "df_cm=pd.DataFrame(array_test)\n",
        "plt.figure(figsize = (10,7))\n",
        "sn.heatmap(df_cm, annot=True)"
      ],
      "execution_count": 16,
      "outputs": [
        {
          "output_type": "execute_result",
          "data": {
            "text/plain": [
              "<matplotlib.axes._subplots.AxesSubplot at 0x7fbb23d12908>"
            ]
          },
          "metadata": {
            "tags": []
          },
          "execution_count": 16
        },
        {
          "output_type": "display_data",
          "data": {
            "image/png": "[encoded data removed]",
            "text/plain": [
              "<Figure size 720x504 with 2 Axes>"
            ]
          },
          "metadata": {
            "tags": [],
            "needs_background": "light"
          }
        }
      ]
    },
    {
      "cell_type": "markdown",
      "metadata": {
        "id": "68zQwJuvK-3P"
      },
      "source": [
        "## Support Vector Machine"
      ]
    },
    {
      "cell_type": "code",
      "metadata": {
        "id": "M7LikCXzLF4l"
      },
      "source": [
        "C_range = np.logspace(-4, 2, 7)\n",
        "gamma_range = np.logspace(-4, 2, 7)\n",
        "param_grid = [{'C': C_range, 'kernel': ['linear']},\n",
        "    {'C': C_range, \n",
        "    'gamma': gamma_range, \n",
        "    'kernel': ['rbf']}]"
      ],
      "execution_count": 17,
      "outputs": []
    },
    {
      "cell_type": "code",
      "metadata": {
        "colab": {
          "base_uri": "https://localhost:8080/"
        },
        "id": "m6g6rYO3LLcL",
        "outputId": "47f17c0e-1247-44e7-b20c-183ee1c8839e"
      },
      "source": [
        "from sklearn.svm import SVC\n",
        "\n",
        "svc = SVC()\n",
        "gs = GridSearchCV(estimator=svc, \n",
        "    param_grid=param_grid, \n",
        "    scoring='accuracy', \n",
        "    cv=10,\n",
        "    n_jobs=-1)\n",
        "gs.fit(X_train_std, y_train)\n",
        "print(gs.best_estimator_)\n",
        "print('Accuracy Train: ', gs.best_score_)\n",
        "y_pred_train = gs.best_estimator_.predict(X_train_std)\n",
        "y_pred_test = gs.best_estimator_.predict(X_test_std)\n",
        "print('Accuracy Test: ', accuracy_score(y_test, y_pred_test))\n",
        "print('Precision: ', precision_score(y_train, y_pred_train))\n",
        "print('Recall: ', recall_score(y_train, y_pred_train))\n",
        "print('F1: ', f1_score(y_train, y_pred_train))\n",
        "print(' TN, FN,\\n FP, TP\\n', confusion_matrix(y_train, y_pred_train))\n",
        "print(' TN, FN,\\n FP, TP\\n', confusion_matrix(y_test, y_pred_test))"
      ],
      "execution_count": 18,
      "outputs": [
        {
          "output_type": "stream",
          "text": [
            "SVC(C=10.0, break_ties=False, cache_size=200, class_weight=None, coef0=0.0,\n",
            "    decision_function_shape='ovr', degree=3, gamma=0.1, kernel='rbf',\n",
            "    max_iter=-1, probability=False, random_state=None, shrinking=True,\n",
            "    tol=0.001, verbose=False)\n",
            "Accuracy Train:  0.9180952380952382\n",
            "Accuracy Test:  0.9183673469387755\n",
            "Precision:  1.0\n",
            "Recall:  1.0\n",
            "F1:  1.0\n",
            " TN, FN,\n",
            " FP, TP\n",
            " [[ 36   0]\n",
            " [  0 110]]\n",
            " TN, FN,\n",
            " FP, TP\n",
            " [[ 9  3]\n",
            " [ 1 36]]\n"
          ],
          "name": "stdout"
        }
      ]
    },
    {
      "cell_type": "code",
      "metadata": {
        "colab": {
          "base_uri": "https://localhost:8080/",
          "height": 445
        },
        "id": "F8WoiBNZLT9k",
        "outputId": "1454f10a-27de-459b-bda6-b69efe59517e"
      },
      "source": [
        "array_test=confusion_matrix(y_test, y_pred_test)\n",
        "df_cm=pd.DataFrame(array_test)\n",
        "plt.figure(figsize = (10,7))\n",
        "sn.heatmap(df_cm, annot=True)"
      ],
      "execution_count": 19,
      "outputs": [
        {
          "output_type": "execute_result",
          "data": {
            "text/plain": [
              "<matplotlib.axes._subplots.AxesSubplot at 0x7fbb23d12710>"
            ]
          },
          "metadata": {
            "tags": []
          },
          "execution_count": 19
        },
        {
          "output_type": "display_data",
          "data": {
            "image/png": "[encoded data removed]",
            "text/plain": [
              "<Figure size 720x504 with 2 Axes>"
            ]
          },
          "metadata": {
            "tags": [],
            "needs_background": "light"
          }
        }
      ]
    },
    {
      "cell_type": "markdown",
      "metadata": {
        "id": "baQI8B8ULljC"
      },
      "source": [
        "## Multi-Layer Perceptron Classifier"
      ]
    },
    {
      "cell_type": "code",
      "metadata": {
        "colab": {
          "base_uri": "https://localhost:8080/"
        },
        "id": "kO-yoQm5LtCS",
        "outputId": "c96be6ae-f304-4b4c-ad87-5f82aa5496a0"
      },
      "source": [
        "hls_range = [(8,8), (10,8), (12,8), (20,10), (50,8), (100,50)]\n",
        "alpha_range = np.logspace(-2,2,5)\n",
        "\n",
        "param_grid = [{'alpha':alpha_range, 'hidden_layer_sizes':hls_range}]\n",
        "\n",
        "\n",
        "gs = GridSearchCV(estimator=MLPClassifier(tol=1e-5, \n",
        "                                          learning_rate_init=0.02,\n",
        "                                          max_iter=1000,\n",
        "                                         random_state=1), \n",
        "                  param_grid=param_grid, \n",
        "                  cv=5)\n",
        "\n",
        "gs.fit(X_train_std, y_train)\n",
        "print(gs.best_estimator_)\n",
        "print(gs.best_params_)\n",
        "\n",
        "y_pred_train = gs.best_estimator_.predict(X_train_std)\n",
        "y_pred_test = gs.best_estimator_.predict(X_test_std)\n",
        "\n",
        "gs.best_estimator_.fit(X_train_std, y_train)\n",
        "print(\"The accuracy for the training data is :\", gs.best_estimator_.score(X_train_std,y_train))\n",
        "print(\"The accuracy for the test data is :\",gs.best_estimator_.score(X_test_std,y_test))\n",
        "print(' TN, FN,\\n FP, TP\\n', confusion_matrix(y_train, y_pred_train))\n",
        "print(' TN, FN,\\n FP, TP\\n', confusion_matrix(y_test, y_pred_test))"
      ],
      "execution_count": 21,
      "outputs": [
        {
          "output_type": "stream",
          "text": [
            "MLPClassifier(activation='relu', alpha=0.01, batch_size='auto', beta_1=0.9,\n",
            "              beta_2=0.999, early_stopping=False, epsilon=1e-08,\n",
            "              hidden_layer_sizes=(10, 8), learning_rate='constant',\n",
            "              learning_rate_init=0.02, max_fun=15000, max_iter=1000,\n",
            "              momentum=0.9, n_iter_no_change=10, nesterovs_momentum=True,\n",
            "              power_t=0.5, random_state=1, shuffle=True, solver='adam',\n",
            "              tol=1e-05, validation_fraction=0.1, verbose=False,\n",
            "              warm_start=False)\n",
            "{'alpha': 0.01, 'hidden_layer_sizes': (10, 8)}\n",
            "The accuracy for the training data is : 1.0\n",
            "The accuracy for the test data is : 0.9183673469387755\n",
            " TN, FN,\n",
            " FP, TP\n",
            " [[ 36   0]\n",
            " [  0 110]]\n",
            " TN, FN,\n",
            " FP, TP\n",
            " [[ 9  3]\n",
            " [ 1 36]]\n"
          ],
          "name": "stdout"
        }
      ]
    },
    {
      "cell_type": "code",
      "metadata": {
        "colab": {
          "base_uri": "https://localhost:8080/",
          "height": 445
        },
        "id": "A2g5AhlAL28m",
        "outputId": "d909c2f5-77ad-4b0c-883c-8210d6999ee9"
      },
      "source": [
        "array_test=confusion_matrix(y_test, y_pred_test)\n",
        "df_cm=pd.DataFrame(array_test)\n",
        "plt.figure(figsize = (10,7))\n",
        "sn.heatmap(df_cm, annot=True)"
      ],
      "execution_count": 22,
      "outputs": [
        {
          "output_type": "execute_result",
          "data": {
            "text/plain": [
              "<matplotlib.axes._subplots.AxesSubplot at 0x7fbb1e780400>"
            ]
          },
          "metadata": {
            "tags": []
          },
          "execution_count": 22
        },
        {
          "output_type": "display_data",
          "data": {
            "image/png": "[encoded data removed]",
            "text/plain": [
              "<Figure size 720x504 with 2 Axes>"
            ]
          },
          "metadata": {
            "tags": [],
            "needs_background": "light"
          }
        }
      ]
    }
  ]
}